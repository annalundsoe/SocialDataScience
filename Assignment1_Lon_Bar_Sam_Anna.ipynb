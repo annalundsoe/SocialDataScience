{
 "cells": [
  {
   "cell_type": "markdown",
   "metadata": {
    "deletable": false,
    "editable": false,
    "nbgrader": {
     "cell_type": "markdown",
     "checksum": "c517ba875fbc0cd184268049c8609522",
     "grade": false,
     "grade_id": "cell-8f45287b5a246de7",
     "locked": true,
     "schema_version": 3,
     "solution": false,
     "task": false
    }
   },
   "source": [
    "# Mandatory Assignment 1\n",
    "\n",
    "This is the second of three mandatory assignments which must be completed during the course. Note that you only need to pass 2 out of 3 assignments to be eligible for the exam.\n",
    "\n",
    "\n",
    "First some practical information:\n",
    "\n",
    "* When is the assignment due?: **23:59, Friday, August 14, 2020.**\n",
    "* Should i work with my group?: **Yes**. In particular, you should **only hand in 1 assignment per group**.\n",
    "\n",
    "The assignment consists of problems from some of the exercise sets that you have solved so far. Some exercises are modified a little to better suit the structure of the assignment. \n",
    "\n",
    "**Note**: It is important that you submit your edited version of THIS [notebook](https://fileinfo.com/extension/ipynb#:~:text=An%20IPYNB%20file%20is%20a,Python%20language%20and%20their%20data.) as a .ipynb file and nothing else. Do not copy your answers into another notebook that you have made. Do not submit your answers as a pdf. Do not convert the notebook to json and then submit that etc. :) "
   ]
  },
  {
   "cell_type": "code",
   "execution_count": 144,
   "metadata": {},
   "outputs": [],
   "source": [
    "#GRUPPE 48"
   ]
  },
  {
   "cell_type": "markdown",
   "metadata": {
    "deletable": false,
    "editable": false,
    "nbgrader": {
     "cell_type": "markdown",
     "checksum": "e57a58220baf08616abfa857e653c538",
     "grade": false,
     "grade_id": "cell-bc2367dff4ff3524",
     "locked": true,
     "schema_version": 3,
     "solution": false,
     "task": false
    }
   },
   "source": [
    "## Problems from Exercise Set 3:\n",
    "\n",
    "> **Ex. 3.2.1:**: Show the first five rows of the titanic dataset. What information is in the dataset? Use a barplot to show the probability of survival for men and women within each passenger class. Can you make a boxplot showing the same information (why/why not?). Write _three sentences_ for this question. \n",
    ">\n",
    "> > _Hint:_ https://seaborn.pydata.org/generated/seaborn.barplot.html, specifically the `hue` option."
   ]
  },
  {
   "cell_type": "code",
   "execution_count": 123,
   "metadata": {
    "deletable": false,
    "nbgrader": {
     "cell_type": "code",
     "checksum": "8fd42dcee0a00052e8e482aef177a7ca",
     "grade": true,
     "grade_id": "cell-65ba6c136759c47e",
     "locked": false,
     "points": 1,
     "schema_version": 3,
     "solution": true,
     "task": false
    }
   },
   "outputs": [
    {
     "name": "stdout",
     "output_type": "stream",
     "text": [
      "   survived  pclass     sex   age  sibsp  parch     fare embarked  class  \\\n",
      "0         0       3    male  22.0      1      0   7.2500        S  Third   \n",
      "1         1       1  female  38.0      1      0  71.2833        C  First   \n",
      "2         1       3  female  26.0      0      0   7.9250        S  Third   \n",
      "3         1       1  female  35.0      1      0  53.1000        S  First   \n",
      "4         0       3    male  35.0      0      0   8.0500        S  Third   \n",
      "\n",
      "     who  adult_male deck  embark_town alive  alone  \n",
      "0    man        True  NaN  Southampton    no  False  \n",
      "1  woman       False    C    Cherbourg   yes  False  \n",
      "2  woman       False  NaN  Southampton   yes   True  \n",
      "3  woman       False    C  Southampton   yes  False  \n",
      "4    man        True  NaN  Southampton    no   True  \n"
     ]
    },
    {
     "data": {
      "text/plain": [
       "\"\\nCan you make a boxplot showing the same information (why/why not)?\\n    It is not possible to make a (informative) boxplot showing the prob. of survival. That's because the variable we are\\n    plotting (survived) is a dummy variable only taking on the values 0 or 1. Either the box will just be a line, e.g. all \\n    quartiles is the same value (which happened to 4 of our boxplots) or a box spanning over the whole range from 0 to 1\\n    (which happened to the other 2 of our boxplots), and we are not getting any information on the measure of main\\n    interest; the mean.\\n\""
      ]
     },
     "execution_count": 123,
     "metadata": {},
     "output_type": "execute_result"
    },
    {
     "data": {
      "image/png": "[encoded data removed]",
      "text/plain": [
       "<Figure size 720x288 with 2 Axes>"
      ]
     },
     "metadata": {
      "needs_background": "light"
     },
     "output_type": "display_data"
    }
   ],
   "source": [
    "# YOUR CODE HERE\n",
    "\n",
    "# Import libraries and dataset:\n",
    "import matplotlib.pyplot as plt \n",
    "import seaborn as sns \n",
    "titanic = sns.load_dataset('titanic')\n",
    "\n",
    "# Display output of plotting commands directly below code cells:\n",
    "%matplotlib inline \n",
    "\n",
    "# Show first five rows of Titanic dataset:\n",
    "print(titanic.head(5))\n",
    "'''\n",
    "What information is in the dataset?\n",
    "    It's a dataset where each observation is a passenger aborad Titanic. The variables show if they survived the shipwreck,\n",
    "    passenger class, sex, age, the fare they paid, in which city they embarked etc.\n",
    "'''\n",
    "\n",
    "# Plots:\n",
    "f,ax = plt.subplots(1,2, figsize=(10,4))\n",
    "sns.barplot(x='class', y='survived',  data=titanic, ax=ax[0], hue='sex') # BARplot showing the prob. of survival for men and women within each passenger class\n",
    "sns.boxplot(x='class', y='survived',  data=titanic, ax=ax[1], hue='sex') # BOXplot showing the prob. of survival for men and women within each passenger class \n",
    "'''\n",
    "Can you make a boxplot showing the same information (why/why not)?\n",
    "    It is not possible to make a (informative) boxplot showing the prob. of survival. That's because the variable we are\n",
    "    plotting (survived) is a dummy variable only taking on the values 0 or 1. Either the box will just be a line, e.g. all \n",
    "    quartiles is the same value (which happened to 4 of our boxplots) or a box spanning over the whole range from 0 to 1\n",
    "    (which happened to the other 2 of our boxplots), and we are not getting any information on the measure of main\n",
    "    interest; the mean.\n",
    "'''"
   ]
  },
  {
   "cell_type": "markdown",
   "metadata": {
    "deletable": false,
    "editable": false,
    "nbgrader": {
     "cell_type": "markdown",
     "checksum": "aeba0c4874dca1f22456f30940246e5b",
     "grade": false,
     "grade_id": "cell-59488e40ebf2f946",
     "locked": true,
     "schema_version": 3,
     "solution": false,
     "task": false
    }
   },
   "source": [
    "> **Ex. 3.2.2:** Using the iris flower dataset, draw a scatterplot of sepal length and petal length. Include a second order polynomial fitted to the data. Add a title to the plot and rename the axis labels to `sepal length` and `sepal width`.\n",
    "> _Write 3 sentences:_ Is this a meaningful way to display the data? What could we do differently?\n",
    ">\n",
    "> For a better understanding of the dataset this image might be useful:\n",
    "> <img src=\"iris_pic.png\" alt=\"Drawing\" style=\"width: 200px;\"/>\n",
    ">\n",
    ">> _Hint:_ use the `.regplot` method from seaborn. "
   ]
  },
  {
   "cell_type": "code",
   "execution_count": 124,
   "metadata": {
    "deletable": false,
    "nbgrader": {
     "cell_type": "code",
     "checksum": "b6d0f5b94be36ff56860be2f55836915",
     "grade": true,
     "grade_id": "cell-da18db88eaa1f744",
     "locked": false,
     "points": 1,
     "schema_version": 3,
     "solution": true,
     "task": false
    }
   },
   "outputs": [
    {
     "name": "stdout",
     "output_type": "stream",
     "text": [
      "   sepal_length  sepal_width  petal_length  petal_width species\n",
      "0           5.1          3.5           1.4          0.2  setosa\n",
      "1           4.9          3.0           1.4          0.2  setosa\n",
      "2           4.7          3.2           1.3          0.2  setosa\n",
      "3           4.6          3.1           1.5          0.2  setosa\n",
      "4           5.0          3.6           1.4          0.2  setosa\n"
     ]
    },
    {
     "data": {
      "text/plain": [
       "\"\\nIs it a meaningful way to display the data? What could we do differently?\\n    It looks like two distinct groups of observations with a different relationship between sepal and pental length.\\n    For those flowers with a petal length greater than 3, the polynomial seem to fit well, but for the other group of \\n    flowers with a petal length less than 2, it looks like we are forcing the line to fit a relationship that doesn't\\n    exist for these flowers. \\n    It would have been better to find separate relationships for the two groups.\\n\""
      ]
     },
     "execution_count": 124,
     "metadata": {},
     "output_type": "execute_result"
    },
    {
     "data": {
      "image/png": "[encoded data removed]",
      "text/plain": [
       "<Figure size 540x360 with 1 Axes>"
      ]
     },
     "metadata": {
      "needs_background": "light"
     },
     "output_type": "display_data"
    }
   ],
   "source": [
    "# YOUR CODE HERE\n",
    "\n",
    "# Import flower dataset:\n",
    "iris = sns.load_dataset('iris')\n",
    "\n",
    "# Show first five rows of the dataset:\n",
    "print(iris.head(5))\n",
    "\n",
    "# Scatterplot of sepal length and peral length + polynomial\n",
    "g = sns.FacetGrid(iris,  height=5, aspect=1.5)\n",
    "g = sns.regplot(x='petal_length', y='sepal_length', data=iris, order=2)\\\n",
    "    .set_title('Relationship between sepal and petal length')\n",
    "plt.xlabel('Petal length')\n",
    "plt.ylabel('Sepal length')\n",
    "\n",
    "'''\n",
    "Is it a meaningful way to display the data? What could we do differently?\n",
    "    It looks like two distinct groups of observations with a different relationship between sepal and pental length.\n",
    "    For those flowers with a petal length greater than 3, the polynomial seem to fit well, but for the other group of \n",
    "    flowers with a petal length less than 2, it looks like we are forcing the line to fit a relationship that doesn't\n",
    "    exist for these flowers. \n",
    "    It would have been better to find separate relationships for the two groups.\n",
    "'''"
   ]
  },
  {
   "cell_type": "markdown",
   "metadata": {
    "deletable": false,
    "editable": false,
    "nbgrader": {
     "cell_type": "markdown",
     "checksum": "5c37b469b80844d328b6ed4438269eba",
     "grade": false,
     "grade_id": "cell-2a6cf101dd1893ef",
     "locked": true,
     "schema_version": 3,
     "solution": false,
     "task": false
    }
   },
   "source": [
    "> **Ex. 3.2.3:** Combine the two of the figures you created above into a two-panel figure similar to the one shown here:\n",
    "> <img src=\"Example.png\" alt=\"Drawing\" style=\"width: 600px;\"/>\n",
    ">\n",
    "> Save the figure as a png file in this on your computer named `two_plots.png`. \n",
    ">> _Hint:_ See [this question](https://stackoverflow.com/questions/41384040/subplot-for-seaborn-boxplot) on stackoverflow for inspiration."
   ]
  },
  {
   "cell_type": "code",
   "execution_count": 125,
   "metadata": {
    "deletable": false,
    "nbgrader": {
     "cell_type": "code",
     "checksum": "b46a72df9de9908ecc2c7fa154edb3f9",
     "grade": true,
     "grade_id": "cell-6cafe530cd2ff474",
     "locked": false,
     "points": 2,
     "schema_version": 3,
     "solution": true,
     "task": false
    }
   },
   "outputs": [
    {
     "data": {
      "image/png": "[encoded data removed]",
      "text/plain": [
       "<Figure size 720x288 with 2 Axes>"
      ]
     },
     "metadata": {
      "needs_background": "light"
     },
     "output_type": "display_data"
    }
   ],
   "source": [
    "# YOUR CODE HERE\n",
    "\n",
    "# Two empty figures to contain plots below:\n",
    "f, axes = plt.subplots(1, 2, figsize=(10,4))\n",
    "\n",
    "# Titanic barplot:\n",
    "sns.barplot(x='class', y='survived',  data=titanic, hue='sex', ax=axes[0])\\\n",
    "    .set_title('Survivors of Titanic')\n",
    "\n",
    "# Flower scatterplot:\n",
    "sns.regplot(x='petal_length', y='sepal_length', data=iris, order=2, ax=axes[1])\\\n",
    "    .set_title('Relationship between sepal and petal length')\n",
    "plt.xlabel('Petal length')\n",
    "plt.ylabel('Sepal length')\n",
    "\n",
    "# Save file:\n",
    "plt.savefig('two_plots.png')"
   ]
  },
  {
   "cell_type": "markdown",
   "metadata": {
    "deletable": false,
    "editable": false,
    "nbgrader": {
     "cell_type": "markdown",
     "checksum": "b2319fa1a3b36c28e97c36f0c53c8b41",
     "grade": false,
     "grade_id": "cell-e28611963fcc9e39",
     "locked": true,
     "schema_version": 3,
     "solution": false,
     "task": false
    }
   },
   "source": [
    "> **Ex. 3.2.4:** Use [pairplot with hue](https://seaborn.pydata.org/generated/seaborn.pairplot.html) to create a figure that clearly shows how the different species vary across measurements. Change the color palette and remove the shading from the density plots"
   ]
  },
  {
   "cell_type": "code",
   "execution_count": 126,
   "metadata": {
    "deletable": false,
    "nbgrader": {
     "cell_type": "code",
     "checksum": "3c24cef1e2ed266e36e4cebe2cd61061",
     "grade": true,
     "grade_id": "cell-85e216ea49a4d32c",
     "locked": false,
     "points": 2,
     "schema_version": 3,
     "solution": true,
     "task": false
    }
   },
   "outputs": [
    {
     "data": {
      "text/plain": [
       "<seaborn.axisgrid.PairGrid at 0x7fe1fe1d6160>"
      ]
     },
     "execution_count": 126,
     "metadata": {},
     "output_type": "execute_result"
    },
    {
     "data": {
      "image/png": "[encoded data removed]",
      "text/plain": [
       "<Figure size 747.15x662.4 with 20 Axes>"
      ]
     },
     "metadata": {
      "needs_background": "light"
     },
     "output_type": "display_data"
    }
   ],
   "source": [
    "# YOUR CODE HERE\n",
    "\n",
    "sns.pairplot(iris, height=2.3, hue='species', palette='husl')"
   ]
  },
  {
   "cell_type": "markdown",
   "metadata": {
    "deletable": false,
    "editable": false,
    "nbgrader": {
     "cell_type": "markdown",
     "checksum": "84a3640a6987c45c3f460a952266b015",
     "grade": false,
     "grade_id": "cell-d347f9c3c3952e04",
     "locked": true,
     "schema_version": 3,
     "solution": false,
     "task": false
    }
   },
   "source": [
    "## Problems from Exercise Set 4:\n",
    "\n",
    "We continue with the exercise that analyzes NOAA data. This time we are going to **read the weather data from a csv file** located in this assignment directory instead of trying to request the website. The file is called `'weather_data_1870-1875.csv'` and consists of weather data for the period 1870-1875. Specifically, the csv file contains a dataframe which has been constructed by concatenating the _non-processed_ data from 1870-1875."
   ]
  },
  {
   "cell_type": "markdown",
   "metadata": {
    "deletable": false,
    "editable": false,
    "nbgrader": {
     "cell_type": "markdown",
     "checksum": "31371dbc52c6ff55625399e22ef62c6e",
     "grade": false,
     "grade_id": "cell-a5d456315fd7e75e",
     "locked": true,
     "schema_version": 3,
     "solution": false,
     "task": false
    }
   },
   "source": [
    "> **Ex. 4.1.1:** The code below runs through some of the steps we completed in exercise 4.1.1 in Module 4. As we are not going to request the website but load the data from a csv file your task is to **rewrite parts of the function**. Rename the function to `process_weather` instead of `load_weather`. The function should now  take a `dataframe` as input. The function should still run through the same processing steps although you should consider whether `df_weather.iloc[:, :4]` is necessary for the weather data loaded from  the csv file. The doc string should also be rewritten. After having rewritten the function, load the weather data from `'weather_data_1870-1875.csv'` into a pandas dataframe, apply the `load_weather` function  to this dataframe and store the result in the variable `df_weather_period`.   \n",
    "\n",
    "```python\n",
    "import pandas as pd\n",
    "\n",
    "def load_weather(year):\n",
    "    \n",
    "    '''\n",
    "    This functions loads the data for selected year and then structures and cleans it.\n",
    "    - Structuring includes removing unused columns, renaming and selecting only observations \n",
    "    of maximum temperature. \n",
    "    - Cleaning includes inserting missing decimal, sorting and resetting index.\n",
    "    '''\n",
    "    url = f\"ftp://ftp.ncdc.noaa.gov/pub/data/ghcn/daily/by_year/{year}.csv.gz\"\n",
    "    \n",
    "    # loads the data\n",
    "    df_weather = pd.read_csv(url, header=None)\\\n",
    "                    .iloc[:,:4] \n",
    "    \n",
    "    # structure and clean data using methods chaining\n",
    "    # note that the original columns now are strings when loading the csv file\n",
    "    # and not integers as when downloading the data\n",
    "    df_out = \\\n",
    "        df_weather\\\n",
    "            .rename(columns={'0': 'station', '1': 'datetime', '2': 'obs_type', '3': 'obs_value'})\\\n",
    "            .query(\"obs_type == 'TMAX'\")\\\n",
    "            .assign(obs_value=lambda df: df['obs_value']/10)\\\n",
    "            .sort_values(by=['station', 'datetime'])\\\n",
    "            .reset_index(drop=True)\\\n",
    "            .copy() \n",
    "\n",
    "    # area process\n",
    "    df_out['area'] = df_out['station'].str[0:2]\n",
    "    \n",
    "    # datetime process\n",
    "    df_out['datetime_dt'] = pd.to_datetime(df_out['datetime'], format = '%Y%m%d')\n",
    "    df_out['month'] = df_out['datetime_dt'].dt.month\n",
    "    df_out['year'] = df_out['datetime_dt'].dt.year\n",
    "    \n",
    "    return df_out\n",
    "```"
   ]
  },
  {
   "cell_type": "code",
   "execution_count": 127,
   "metadata": {
    "deletable": false,
    "nbgrader": {
     "cell_type": "code",
     "checksum": "c47644998dfea92678c416706adff8a5",
     "grade": false,
     "grade_id": "cell-b75fed704ead2cba",
     "locked": false,
     "schema_version": 3,
     "solution": true,
     "task": false
    }
   },
   "outputs": [],
   "source": [
    "# YOUR CODE HERE\n",
    "\n",
    "import pandas as pd\n",
    "import csv\n",
    "\n",
    "#loading the csv file from the directorty and turning it into Pandas dataframe\n",
    "data = pd.read_csv(\"weather_data_1870-1875.csv\")\n",
    "\n",
    "def process_weather(data):\n",
    "    \n",
    "    df_out = \\\n",
    "        data\\\n",
    "            .rename(columns={'0': 'station', '1': 'datetime', '2': 'obs_type', '3': 'obs_value'})\\\n",
    "            .query(\"obs_type == 'TMAX'\")\\\n",
    "            .assign(obs_value=lambda df: df['obs_value']/10)\\\n",
    "            .sort_values(by=['station', 'datetime'])\\\n",
    "            .reset_index(drop=True)\\\n",
    "            .copy() \n",
    "    \n",
    "    df_out['area'] = df_out['station'].str[0:2]\n",
    "    \n",
    "    df_out['datetime_dt'] = pd.to_datetime(df_out['datetime'], format = '%Y%m%d')\n",
    "    df_out['month'] = df_out['datetime_dt'].dt.month\n",
    "    df_out['year'] = df_out['datetime_dt'].dt.year\n",
    "    \n",
    "    return df_out\n",
    "\n",
    "years = range(1870,1876)\n",
    "df_weather_period = process_weather(data)"
   ]
  },
  {
   "cell_type": "code",
   "execution_count": 128,
   "metadata": {
    "deletable": false,
    "editable": false,
    "nbgrader": {
     "cell_type": "code",
     "checksum": "e04676686ce0f87074ec3da5f672c9a1",
     "grade": true,
     "grade_id": "cell-d09a2ec589f954b6",
     "locked": true,
     "points": 1,
     "schema_version": 3,
     "solution": false,
     "task": false
    }
   },
   "outputs": [],
   "source": [
    "assert any(df_weather_period.station == process_weather(pd.read_csv('weather_data_1870-1875.csv')).station)\n",
    "assert any(df_weather_period.columns.values == ['station', 'datetime', 'obs_type', 'area', \n",
    "                                                'obs_value', 'datetime_dt', 'month', 'year'])\n",
    "assert len(df_weather_period) == 132317\n",
    "assert round(df_weather_period.obs_value.mean()) == 14"
   ]
  },
  {
   "cell_type": "markdown",
   "metadata": {
    "deletable": false,
    "editable": false,
    "nbgrader": {
     "cell_type": "markdown",
     "checksum": "4ac80c5aed9a34468343198bc4eca629",
     "grade": false,
     "grade_id": "cell-f70158d49468d4c7",
     "locked": true,
     "schema_version": 3,
     "solution": false,
     "task": false
    }
   },
   "source": [
    "> **Ex. 4.1.1.1 (Not seen in module 4):** Try to plot the observations value of `df_weather_period` by running `df_weather_period.obs_value.plot()`. Something seems off, right? Now try to inspect the problematic subset of the dataframe by running `df_weather_period[df_weather_period.obs_value < -50]`. What can these observations be characterized as? Drop these three observations from `df_weather_period`, reset the index and drop the column with the old index. Store the dataframe back into the variable `df_weather_period`."
   ]
  },
  {
   "cell_type": "code",
   "execution_count": 129,
   "metadata": {
    "deletable": false,
    "nbgrader": {
     "cell_type": "code",
     "checksum": "ea8cad305ef02a124cdc806dc67b1dae",
     "grade": false,
     "grade_id": "cell-9847b54d261d05cd",
     "locked": false,
     "schema_version": 3,
     "solution": true,
     "task": false
    }
   },
   "outputs": [
    {
     "data": {
      "image/png": "[encoded data removed]",
      "text/plain": [
       "<Figure size 432x288 with 1 Axes>"
      ]
     },
     "metadata": {
      "needs_background": "light"
     },
     "output_type": "display_data"
    }
   ],
   "source": [
    "# YOUR CODE HERE\n",
    "\n",
    "df_weather_period.obs_value.plot()\n",
    "df_weather_period[df_weather_period.obs_value < -50]\n",
    "\n",
    "#They are probably errors. Over -500 degrees does not seem realistic.\n",
    "\n",
    "df=df_weather_period.drop(df_weather_period[ df_weather_period.obs_value < -50].index)\n",
    "df_weather_period=df.reset_index()"
   ]
  },
  {
   "cell_type": "code",
   "execution_count": 130,
   "metadata": {
    "deletable": false,
    "editable": false,
    "nbgrader": {
     "cell_type": "code",
     "checksum": "455ea80ef0233e4dcb984d561fb46625",
     "grade": true,
     "grade_id": "cell-243d261eec02f4b9",
     "locked": true,
     "points": 2,
     "schema_version": 3,
     "solution": false,
     "task": false
    }
   },
   "outputs": [],
   "source": [
    "assert len(df_weather_period[df_weather_period.obs_value < -50]) == 0 "
   ]
  },
  {
   "cell_type": "markdown",
   "metadata": {
    "deletable": false,
    "editable": false,
    "nbgrader": {
     "cell_type": "markdown",
     "checksum": "f38ee104bd7cee0590b6f7d686dec4ae",
     "grade": false,
     "grade_id": "cell-a6b73e84fd1e6ab6",
     "locked": true,
     "schema_version": 3,
     "solution": false,
     "task": false
    }
   },
   "source": [
    "> **Ex. 4.1.3:** \n",
    "Continuing with the `df_weather_period` from last exercise, convert the `area` column to a categorical variable. \n",
    "Transform the `obs_value` column from a continuous to a categorical variable by partitioning it into `3` intervals. Call this new column for `obs_value_cat`.  This can be done using the `pd.cut()` method of pandas. \n",
    "Make another column with  `obs_value` as a categorical variable but this time label the 3 intervals as `[\"cold\", \"medium\", \"hot\"]`. This can be done by specifying the `labels` parameter in the `pd.cut()` method of pandas. Call this new column for `obs_value_cat_labeled`."
   ]
  },
  {
   "cell_type": "code",
   "execution_count": 131,
   "metadata": {
    "deletable": false,
    "nbgrader": {
     "cell_type": "code",
     "checksum": "764a0f0076c0e3c10001fd176b4a7498",
     "grade": false,
     "grade_id": "cell-0fe64cf676f54c78",
     "locked": false,
     "schema_version": 3,
     "solution": true,
     "task": false
    }
   },
   "outputs": [
    {
     "name": "stdout",
     "output_type": "stream",
     "text": [
      "         index      station  datetime obs_type  obs_value area datetime_dt  \\\n",
      "0            0  ASN00048013  18710425     TMAX       26.7   AS  1871-04-25   \n",
      "1            1  ASN00048013  18710426     TMAX       26.8   AS  1871-04-26   \n",
      "2            2  ASN00048013  18710427     TMAX       25.6   AS  1871-04-27   \n",
      "3            3  ASN00048013  18710428     TMAX       25.6   AS  1871-04-28   \n",
      "4            4  ASN00048013  18710429     TMAX       23.3   AS  1871-04-29   \n",
      "5            5  ASN00048013  18710430     TMAX       25.0   AS  1871-04-30   \n",
      "6            6  ASN00048013  18710501     TMAX       25.0   AS  1871-05-01   \n",
      "7            7  ASN00048013  18710502     TMAX       26.8   AS  1871-05-02   \n",
      "8            8  ASN00048013  18710503     TMAX       26.2   AS  1871-05-03   \n",
      "9            9  ASN00048013  18710504     TMAX       28.3   AS  1871-05-04   \n",
      "10          10  ASN00048013  18710505     TMAX       23.2   AS  1871-05-05   \n",
      "11          11  ASN00048013  18710506     TMAX       25.0   AS  1871-05-06   \n",
      "12          12  ASN00048013  18710507     TMAX       26.7   AS  1871-05-07   \n",
      "13          13  ASN00048013  18710508     TMAX       25.3   AS  1871-05-08   \n",
      "14          14  ASN00048013  18710509     TMAX       21.7   AS  1871-05-09   \n",
      "15          15  ASN00048013  18710510     TMAX       21.9   AS  1871-05-10   \n",
      "16          16  ASN00048013  18710511     TMAX       21.4   AS  1871-05-11   \n",
      "17          17  ASN00048013  18710512     TMAX       21.7   AS  1871-05-12   \n",
      "18          18  ASN00048013  18710513     TMAX       20.9   AS  1871-05-13   \n",
      "19          19  ASN00048013  18710514     TMAX       22.2   AS  1871-05-14   \n",
      "20          20  ASN00048013  18710515     TMAX       19.1   AS  1871-05-15   \n",
      "21          21  ASN00048013  18710516     TMAX       19.4   AS  1871-05-16   \n",
      "22          22  ASN00048013  18710517     TMAX       19.4   AS  1871-05-17   \n",
      "23          23  ASN00048013  18710518     TMAX       20.0   AS  1871-05-18   \n",
      "24          24  ASN00048013  18710519     TMAX       21.0   AS  1871-05-19   \n",
      "25          25  ASN00048013  18710520     TMAX       21.7   AS  1871-05-20   \n",
      "26          26  ASN00048013  18710521     TMAX       19.4   AS  1871-05-21   \n",
      "27          27  ASN00048013  18710522     TMAX       18.1   AS  1871-05-22   \n",
      "28          28  ASN00048013  18710523     TMAX       19.1   AS  1871-05-23   \n",
      "29          29  ASN00048013  18710524     TMAX       18.1   AS  1871-05-24   \n",
      "...        ...          ...       ...      ...        ...  ...         ...   \n",
      "132284  132287  USW00094728  18751202     TMAX       -2.8   US  1875-12-02   \n",
      "132285  132288  USW00094728  18751203     TMAX        0.6   US  1875-12-03   \n",
      "132286  132289  USW00094728  18751204     TMAX        5.0   US  1875-12-04   \n",
      "132287  132290  USW00094728  18751205     TMAX        2.8   US  1875-12-05   \n",
      "132288  132291  USW00094728  18751206     TMAX        2.8   US  1875-12-06   \n",
      "132289  132292  USW00094728  18751207     TMAX        3.3   US  1875-12-07   \n",
      "132290  132293  USW00094728  18751208     TMAX        3.3   US  1875-12-08   \n",
      "132291  132294  USW00094728  18751209     TMAX        5.6   US  1875-12-09   \n",
      "132292  132295  USW00094728  18751210     TMAX        2.8   US  1875-12-10   \n",
      "132293  132296  USW00094728  18751211     TMAX        5.6   US  1875-12-11   \n",
      "132294  132297  USW00094728  18751212     TMAX        6.7   US  1875-12-12   \n",
      "132295  132298  USW00094728  18751213     TMAX        6.1   US  1875-12-13   \n",
      "132296  132299  USW00094728  18751214     TMAX       -0.6   US  1875-12-14   \n",
      "132297  132300  USW00094728  18751215     TMAX        1.1   US  1875-12-15   \n",
      "132298  132301  USW00094728  18751216     TMAX        7.2   US  1875-12-16   \n",
      "132299  132302  USW00094728  18751217     TMAX        3.9   US  1875-12-17   \n",
      "132300  132303  USW00094728  18751218     TMAX       -6.7   US  1875-12-18   \n",
      "132301  132304  USW00094728  18751219     TMAX       -7.2   US  1875-12-19   \n",
      "132302  132305  USW00094728  18751220     TMAX       -1.7   US  1875-12-20   \n",
      "132303  132306  USW00094728  18751221     TMAX        9.4   US  1875-12-21   \n",
      "132304  132307  USW00094728  18751222     TMAX       15.0   US  1875-12-22   \n",
      "132305  132308  USW00094728  18751223     TMAX       17.8   US  1875-12-23   \n",
      "132306  132309  USW00094728  18751224     TMAX       10.6   US  1875-12-24   \n",
      "132307  132310  USW00094728  18751225     TMAX        5.0   US  1875-12-25   \n",
      "132308  132311  USW00094728  18751226     TMAX        4.4   US  1875-12-26   \n",
      "132309  132312  USW00094728  18751227     TMAX       10.6   US  1875-12-27   \n",
      "132310  132313  USW00094728  18751228     TMAX        1.1   US  1875-12-28   \n",
      "132311  132314  USW00094728  18751229     TMAX        2.8   US  1875-12-29   \n",
      "132312  132315  USW00094728  18751230     TMAX        6.7   US  1875-12-30   \n",
      "132313  132316  USW00094728  18751231     TMAX        7.2   US  1875-12-31   \n",
      "\n",
      "        month  year    obs_value_cat obs_value_cat_labeled  \n",
      "0           4  1871     (21.5, 47.8]                   hot  \n",
      "1           4  1871     (21.5, 47.8]                   hot  \n",
      "2           4  1871     (21.5, 47.8]                   hot  \n",
      "3           4  1871     (21.5, 47.8]                   hot  \n",
      "4           4  1871     (21.5, 47.8]                   hot  \n",
      "5           4  1871     (21.5, 47.8]                   hot  \n",
      "6           5  1871     (21.5, 47.8]                   hot  \n",
      "7           5  1871     (21.5, 47.8]                   hot  \n",
      "8           5  1871     (21.5, 47.8]                   hot  \n",
      "9           5  1871     (21.5, 47.8]                   hot  \n",
      "10          5  1871     (21.5, 47.8]                   hot  \n",
      "11          5  1871     (21.5, 47.8]                   hot  \n",
      "12          5  1871     (21.5, 47.8]                   hot  \n",
      "13          5  1871     (21.5, 47.8]                   hot  \n",
      "14          5  1871     (21.5, 47.8]                   hot  \n",
      "15          5  1871     (21.5, 47.8]                   hot  \n",
      "16          5  1871     (-4.8, 21.5]                medium  \n",
      "17          5  1871     (21.5, 47.8]                   hot  \n",
      "18          5  1871     (-4.8, 21.5]                medium  \n",
      "19          5  1871     (21.5, 47.8]                   hot  \n",
      "20          5  1871     (-4.8, 21.5]                medium  \n",
      "21          5  1871     (-4.8, 21.5]                medium  \n",
      "22          5  1871     (-4.8, 21.5]                medium  \n",
      "23          5  1871     (-4.8, 21.5]                medium  \n",
      "24          5  1871     (-4.8, 21.5]                medium  \n",
      "25          5  1871     (21.5, 47.8]                   hot  \n",
      "26          5  1871     (-4.8, 21.5]                medium  \n",
      "27          5  1871     (-4.8, 21.5]                medium  \n",
      "28          5  1871     (-4.8, 21.5]                medium  \n",
      "29          5  1871     (-4.8, 21.5]                medium  \n",
      "...       ...   ...              ...                   ...  \n",
      "132284     12  1875     (-4.8, 21.5]                medium  \n",
      "132285     12  1875     (-4.8, 21.5]                medium  \n",
      "132286     12  1875     (-4.8, 21.5]                medium  \n",
      "132287     12  1875     (-4.8, 21.5]                medium  \n",
      "132288     12  1875     (-4.8, 21.5]                medium  \n",
      "132289     12  1875     (-4.8, 21.5]                medium  \n",
      "132290     12  1875     (-4.8, 21.5]                medium  \n",
      "132291     12  1875     (-4.8, 21.5]                medium  \n",
      "132292     12  1875     (-4.8, 21.5]                medium  \n",
      "132293     12  1875     (-4.8, 21.5]                medium  \n",
      "132294     12  1875     (-4.8, 21.5]                medium  \n",
      "132295     12  1875     (-4.8, 21.5]                medium  \n",
      "132296     12  1875     (-4.8, 21.5]                medium  \n",
      "132297     12  1875     (-4.8, 21.5]                medium  \n",
      "132298     12  1875     (-4.8, 21.5]                medium  \n",
      "132299     12  1875     (-4.8, 21.5]                medium  \n",
      "132300     12  1875  (-31.179, -4.8]                  cold  \n",
      "132301     12  1875  (-31.179, -4.8]                  cold  \n",
      "132302     12  1875     (-4.8, 21.5]                medium  \n",
      "132303     12  1875     (-4.8, 21.5]                medium  \n",
      "132304     12  1875     (-4.8, 21.5]                medium  \n",
      "132305     12  1875     (-4.8, 21.5]                medium  \n",
      "132306     12  1875     (-4.8, 21.5]                medium  \n",
      "132307     12  1875     (-4.8, 21.5]                medium  \n",
      "132308     12  1875     (-4.8, 21.5]                medium  \n",
      "132309     12  1875     (-4.8, 21.5]                medium  \n",
      "132310     12  1875     (-4.8, 21.5]                medium  \n",
      "132311     12  1875     (-4.8, 21.5]                medium  \n",
      "132312     12  1875     (-4.8, 21.5]                medium  \n",
      "132313     12  1875     (-4.8, 21.5]                medium  \n",
      "\n",
      "[132314 rows x 11 columns]\n"
     ]
    }
   ],
   "source": [
    "# YOUR CODE HERE\n",
    "#Converting the area column into a categorical variable\n",
    "area=df_weather_period['station'].astype('category')\n",
    "\n",
    "#Converting and partitioning old_value_cat\n",
    "obs_value_cat=pd.cut(df_weather_period['obs_value'], 3)\n",
    "\n",
    "#Creating new column and naming the intervals\n",
    "obs_value_cat_labeled=pd.cut(df_weather_period['obs_value'], 3, labels=[\"cold\", \"medium\", \"hot\"])\n",
    "\n",
    "df_weather_period['obs_value_cat']=obs_value_cat\n",
    "df_weather_period['obs_value_cat_labeled']=obs_value_cat_labeled\n",
    "print(df_weather_period)"
   ]
  },
  {
   "cell_type": "code",
   "execution_count": 132,
   "metadata": {
    "deletable": false,
    "editable": false,
    "nbgrader": {
     "cell_type": "code",
     "checksum": "836097e9bdf952b372f1e6db88efefa1",
     "grade": true,
     "grade_id": "cell-232c5d319bcb0993",
     "locked": true,
     "points": 2,
     "schema_version": 3,
     "solution": false,
     "task": false
    }
   },
   "outputs": [],
   "source": [
    "assert sorted(df_weather_period.obs_value_cat.value_counts()) == [7594, 38878, 85842]\n",
    "assert sorted(df_weather_period.obs_value_cat_labeled.value_counts()) == [7594, 38878, 85842]"
   ]
  },
  {
   "cell_type": "markdown",
   "metadata": {
    "deletable": false,
    "editable": false,
    "nbgrader": {
     "cell_type": "markdown",
     "checksum": "05175118e69f0d534b10f80601bb5178",
     "grade": false,
     "grade_id": "cell-059e7b61d9fd84a8",
     "locked": true,
     "schema_version": 3,
     "solution": false,
     "task": false
    }
   },
   "source": [
    "## Problems from Exercise Set 5:"
   ]
  },
  {
   "cell_type": "markdown",
   "metadata": {
    "deletable": false,
    "editable": false,
    "nbgrader": {
     "cell_type": "markdown",
     "checksum": "313b5d1e6c291b78f45b95b13f0c0834",
     "grade": false,
     "grade_id": "cell-dc7c9af39bbc941f",
     "locked": true,
     "schema_version": 3,
     "solution": false,
     "task": false
    }
   },
   "source": [
    "> **Ex. 5.1.2:** Compute the mean maximum daily temperature for each month-year pair on the dataframe `df_weather_period` from last exercise by using the `groupby` and `mean` methods. Store the results in the variable `tmax_mean`. "
   ]
  },
  {
   "cell_type": "code",
   "execution_count": 133,
   "metadata": {
    "deletable": false,
    "nbgrader": {
     "cell_type": "code",
     "checksum": "986c3d35b76eada9812163bff00cd0f2",
     "grade": false,
     "grade_id": "cell-03cbeb53b0aff2bb",
     "locked": false,
     "schema_version": 3,
     "solution": true,
     "task": false
    }
   },
   "outputs": [],
   "source": [
    "# YOUR CODE HERE\n",
    "split_vars = ['year', 'month']\n",
    "apply_var = 'obs_value'\n",
    "\n",
    "tmax_mean = df_weather_period.groupby(split_vars)[apply_var].mean()"
   ]
  },
  {
   "cell_type": "code",
   "execution_count": 134,
   "metadata": {
    "deletable": false,
    "editable": false,
    "nbgrader": {
     "cell_type": "code",
     "checksum": "081622fb681c225b77b42b1a8da9ff79",
     "grade": true,
     "grade_id": "cell-5e5ae85a8b9a41e8",
     "locked": true,
     "points": 1,
     "schema_version": 3,
     "solution": false,
     "task": false
    }
   },
   "outputs": [],
   "source": [
    "assert round(tmax_mean.sum()) ==  1017"
   ]
  },
  {
   "cell_type": "markdown",
   "metadata": {
    "deletable": false,
    "editable": false,
    "nbgrader": {
     "cell_type": "markdown",
     "checksum": "5107d6ca47a9f4a362c52b55157074ff",
     "grade": false,
     "grade_id": "cell-06207d8e5eb39706",
     "locked": true,
     "schema_version": 3,
     "solution": false,
     "task": false
    }
   },
   "source": [
    "> **Ex. 5.1.3:** Plot the monthly max,min, mean, first and third quartiles for maximum temperature for the station with ID _'ITE00100550'_ from `df_weather_period`.\n",
    "\n",
    "> *Hint*: the method `describe` computes all these measures."
   ]
  },
  {
   "cell_type": "code",
   "execution_count": 135,
   "metadata": {
    "deletable": false,
    "nbgrader": {
     "cell_type": "code",
     "checksum": "b58ff10a12a9c352dc469e17333e0a82",
     "grade": true,
     "grade_id": "cell-2fa6e05b52415d68",
     "locked": false,
     "points": 4,
     "schema_version": 3,
     "solution": true,
     "task": false
    }
   },
   "outputs": [
    {
     "data": {
      "text/html": [
       "<div>\n",
       "<style scoped>\n",
       "    .dataframe tbody tr th:only-of-type {\n",
       "        vertical-align: middle;\n",
       "    }\n",
       "\n",
       "    .dataframe tbody tr th {\n",
       "        vertical-align: top;\n",
       "    }\n",
       "\n",
       "    .dataframe thead th {\n",
       "        text-align: right;\n",
       "    }\n",
       "</style>\n",
       "<table border=\"1\" class=\"dataframe\">\n",
       "  <thead>\n",
       "    <tr style=\"text-align: right;\">\n",
       "      <th></th>\n",
       "      <th>count</th>\n",
       "      <th>mean</th>\n",
       "      <th>std</th>\n",
       "      <th>min</th>\n",
       "      <th>25%</th>\n",
       "      <th>50%</th>\n",
       "      <th>75%</th>\n",
       "      <th>max</th>\n",
       "    </tr>\n",
       "    <tr>\n",
       "      <th>year</th>\n",
       "      <th></th>\n",
       "      <th></th>\n",
       "      <th></th>\n",
       "      <th></th>\n",
       "      <th></th>\n",
       "      <th></th>\n",
       "      <th></th>\n",
       "      <th></th>\n",
       "    </tr>\n",
       "  </thead>\n",
       "  <tbody>\n",
       "    <tr>\n",
       "      <th>1870</th>\n",
       "      <td>365.0</td>\n",
       "      <td>18.743288</td>\n",
       "      <td>10.481215</td>\n",
       "      <td>-2.0</td>\n",
       "      <td>10.000</td>\n",
       "      <td>18.8</td>\n",
       "      <td>28.0</td>\n",
       "      <td>39.8</td>\n",
       "    </tr>\n",
       "    <tr>\n",
       "      <th>1871</th>\n",
       "      <td>365.0</td>\n",
       "      <td>18.705753</td>\n",
       "      <td>10.926653</td>\n",
       "      <td>-0.5</td>\n",
       "      <td>9.200</td>\n",
       "      <td>19.5</td>\n",
       "      <td>28.8</td>\n",
       "      <td>39.5</td>\n",
       "    </tr>\n",
       "    <tr>\n",
       "      <th>1872</th>\n",
       "      <td>366.0</td>\n",
       "      <td>20.090984</td>\n",
       "      <td>9.219761</td>\n",
       "      <td>2.8</td>\n",
       "      <td>11.425</td>\n",
       "      <td>20.6</td>\n",
       "      <td>28.3</td>\n",
       "      <td>38.0</td>\n",
       "    </tr>\n",
       "    <tr>\n",
       "      <th>1873</th>\n",
       "      <td>365.0</td>\n",
       "      <td>19.248219</td>\n",
       "      <td>9.363187</td>\n",
       "      <td>0.6</td>\n",
       "      <td>11.300</td>\n",
       "      <td>18.6</td>\n",
       "      <td>27.0</td>\n",
       "      <td>37.0</td>\n",
       "    </tr>\n",
       "    <tr>\n",
       "      <th>1874</th>\n",
       "      <td>365.0</td>\n",
       "      <td>19.210411</td>\n",
       "      <td>10.431780</td>\n",
       "      <td>1.0</td>\n",
       "      <td>9.000</td>\n",
       "      <td>19.8</td>\n",
       "      <td>29.0</td>\n",
       "      <td>39.0</td>\n",
       "    </tr>\n",
       "    <tr>\n",
       "      <th>1875</th>\n",
       "      <td>365.0</td>\n",
       "      <td>18.940548</td>\n",
       "      <td>10.644059</td>\n",
       "      <td>0.4</td>\n",
       "      <td>8.200</td>\n",
       "      <td>20.0</td>\n",
       "      <td>29.0</td>\n",
       "      <td>36.5</td>\n",
       "    </tr>\n",
       "  </tbody>\n",
       "</table>\n",
       "</div>"
      ],
      "text/plain": [
       "      count       mean        std  min     25%   50%   75%   max\n",
       "year                                                            \n",
       "1870  365.0  18.743288  10.481215 -2.0  10.000  18.8  28.0  39.8\n",
       "1871  365.0  18.705753  10.926653 -0.5   9.200  19.5  28.8  39.5\n",
       "1872  366.0  20.090984   9.219761  2.8  11.425  20.6  28.3  38.0\n",
       "1873  365.0  19.248219   9.363187  0.6  11.300  18.6  27.0  37.0\n",
       "1874  365.0  19.210411  10.431780  1.0   9.000  19.8  29.0  39.0\n",
       "1875  365.0  18.940548  10.644059  0.4   8.200  20.0  29.0  36.5"
      ]
     },
     "execution_count": 135,
     "metadata": {},
     "output_type": "execute_result"
    }
   ],
   "source": [
    "# YOUR CODE HERE\n",
    "df_weather_period[df_weather_period.station=='ITE00100550'].groupby('year')['obs_value'].describe()"
   ]
  },
  {
   "cell_type": "markdown",
   "metadata": {
    "deletable": false,
    "editable": false,
    "nbgrader": {
     "cell_type": "markdown",
     "checksum": "f5af542ac45f10bc7506cf2d8a08d27a",
     "grade": false,
     "grade_id": "cell-536770b494f89924",
     "locked": true,
     "schema_version": 3,
     "solution": false,
     "task": false
    }
   },
   "source": [
    "> **Ex. 5.1.4:** Use the station location data, which is located in this directory, to merge station locations onto `df_weather_period`. The file with station location data is called  `ghcnd-stations.txt`.  Store the result in the variable `final_data`. \n",
    "\n",
    "> _Hint:_ The location data have the folllowing format, \n",
    "\n",
    "```\n",
    "------------------------------\n",
    "Variable   Columns   Type\n",
    "------------------------------\n",
    "ID            1-11   Character\n",
    "LATITUDE     13-20   Real\n",
    "LONGITUDE    22-30   Real\n",
    "ELEVATION    32-37   Real\n",
    "STATE        39-40   Character\n",
    "NAME         42-71   Character\n",
    "GSN FLAG     73-75   Character\n",
    "HCN/CRN FLAG 77-79   Character\n",
    "WMO ID       81-85   Character\n",
    "------------------------------\n",
    "```\n",
    "\n",
    "> *Hint*: The station information has fixed width format - does there exist a pandas reader for that?"
   ]
  },
  {
   "cell_type": "code",
   "execution_count": 136,
   "metadata": {
    "deletable": false,
    "nbgrader": {
     "cell_type": "code",
     "checksum": "773830bfa689207cac91e81f4ac970ac",
     "grade": false,
     "grade_id": "cell-dbf210d3760e0e0a",
     "locked": false,
     "schema_version": 3,
     "solution": true,
     "task": false
    }
   },
   "outputs": [],
   "source": [
    "# YOUR CODE HERE\n",
    "\n",
    "# Load file\n",
    "location = pd.read_fwf('ghcnd-stations.txt', header=None)\n",
    "\n",
    "# rename variables\n",
    "location_n = location.rename(columns={0: 'station', 1: 'lat', 2:'lon', 3:'elevation', 4:'name',5:'5', 6:'6', 7:'7'})\n",
    "\n",
    "# look at dataset\n",
    "# location_n\n",
    "\n",
    "# merge weather dataset with location dataset\n",
    "final_data = pd.merge(df_weather_period, location_n, on='station', how='left')"
   ]
  },
  {
   "cell_type": "code",
   "execution_count": 137,
   "metadata": {
    "deletable": false,
    "editable": false,
    "nbgrader": {
     "cell_type": "code",
     "checksum": "fb8d9c9045b9002e6f46a386e716c2d3",
     "grade": true,
     "grade_id": "cell-161d2af41f2ac693",
     "locked": true,
     "points": 2,
     "schema_version": 3,
     "solution": false,
     "task": false
    }
   },
   "outputs": [],
   "source": [
    "assert round(final_data.lon.mean()) == -17 \n",
    "assert round(final_data.lat.mean()) == 43\n",
    "assert round(final_data.elevation.mean())  == 248"
   ]
  },
  {
   "cell_type": "markdown",
   "metadata": {
    "deletable": false,
    "editable": false,
    "nbgrader": {
     "cell_type": "markdown",
     "checksum": "24f124dd32484722aaa61b0aaa7a6d93",
     "grade": false,
     "grade_id": "cell-c79c0e1d03d847e4",
     "locked": true,
     "schema_version": 3,
     "solution": false,
     "task": false
    }
   },
   "source": [
    "## Problems from Exercise Set 6\n",
    "\n",
    "> **Ex. 6.1.2.:** Use the `request` module to collect the first page of job postings and unpack the relevant `json` data into a `pandas` DataFrame."
   ]
  },
  {
   "cell_type": "code",
   "execution_count": 138,
   "metadata": {
    "deletable": false,
    "nbgrader": {
     "cell_type": "code",
     "checksum": "c1ad456807d0daf372d3a01858eeda7a",
     "grade": false,
     "grade_id": "cell-b1a9f3b61b943d80",
     "locked": false,
     "schema_version": 3,
     "solution": true,
     "task": false
    }
   },
   "outputs": [
    {
     "data": {
      "text/plain": [
       "<function dict.keys>"
      ]
     },
     "execution_count": 138,
     "metadata": {},
     "output_type": "execute_result"
    }
   ],
   "source": [
    "# YOUR CODE HERE\n",
    "import requests\n",
    "from bs4 import BeautifulSoup\n",
    "import re\n",
    "import selenium\n",
    "import time\n",
    "\n",
    "import pandas as pd\n",
    "url_job = 'https://job.jobnet.dk/CV/FindWork/Search'\n",
    "req_job = requests.get(url_job)\n",
    "d = req_job.json()\n",
    "d.keys\n",
    "\n"
   ]
  },
  {
   "cell_type": "code",
   "execution_count": 139,
   "metadata": {
    "deletable": false,
    "editable": false,
    "nbgrader": {
     "cell_type": "code",
     "checksum": "d3ccdb36fd0eb01c7468d40a82106e52",
     "grade": true,
     "grade_id": "cell-a1f86e69911bce5e",
     "locked": true,
     "points": 2,
     "schema_version": 3,
     "solution": false,
     "task": false
    }
   },
   "outputs": [],
   "source": [
    "assert sorted(d.keys()) == ['Expression', 'Facets', 'JobPositionPostings', 'TotalResultCount']"
   ]
  },
  {
   "cell_type": "markdown",
   "metadata": {
    "deletable": false,
    "editable": false,
    "nbgrader": {
     "cell_type": "markdown",
     "checksum": "f92c0f71550b9dbc5ff4f22c3982dff0",
     "grade": false,
     "grade_id": "cell-9e12252b918a6e96",
     "locked": true,
     "schema_version": 3,
     "solution": false,
     "task": false
    }
   },
   "source": [
    "> **Ex. 6.1.3.:** Create a dataframe named `df` from the 'JobPositionPostings' field in the json object from the previous exercise.  "
   ]
  },
  {
   "cell_type": "code",
   "execution_count": 140,
   "metadata": {
    "deletable": false,
    "nbgrader": {
     "cell_type": "code",
     "checksum": "e81368a2114c506a3d4d53dcaeaaaeb4",
     "grade": false,
     "grade_id": "cell-a39477579f548e6e",
     "locked": false,
     "schema_version": 3,
     "solution": true,
     "task": false
    }
   },
   "outputs": [],
   "source": [
    "# YOUR CODE HERE\n",
    "df = pd.DataFrame(resp1.json()['JobPositionPostings'])"
   ]
  },
  {
   "cell_type": "code",
   "execution_count": 141,
   "metadata": {
    "deletable": false,
    "editable": false,
    "nbgrader": {
     "cell_type": "code",
     "checksum": "6a724c520fdc9de52a2dc1e904d55529",
     "grade": true,
     "grade_id": "cell-7131e79791ea0e8c",
     "locked": true,
     "points": 1,
     "schema_version": 3,
     "solution": false,
     "task": false
    }
   },
   "outputs": [],
   "source": [
    "assert sorted(df.columns) == ['Abroad', 'AnonymousEmployer', 'AssignmentStartDate', 'AutomatchType', 'Country', \n",
    "                              'DetailsUrl', 'EmploymentType', 'FormattedLastDateApplication', 'HasLocationValues', \n",
    "                              'HiringOrgCVR', 'HiringOrgName', 'ID', 'IsExternal', 'IsHotjob', 'JobAnnouncementType', \n",
    "                              'JobHeadline', 'JobLogUrl', 'JoblogWorkTime', 'LastDateApplication', 'Latitude', 'Location',\n",
    "                              'Longitude', 'Municipality', 'Occupation', 'OccupationArea', 'OccupationGroup', \n",
    "                              'OrganisationId', 'PostalCode', 'PostalCodeName', 'PostingCreated', 'Presentation',\n",
    "                              'Region', 'ShareUrl', 'Title', 'Url', 'UseWorkPlaceAddressForJoblog', 'UserLoggedIn',\n",
    "                              'Weight', 'WorkHours', 'WorkPlaceAbroad', 'WorkPlaceAddress', 'WorkPlaceCity',\n",
    "                              'WorkPlaceNotStatic', 'WorkPlaceOtherAddress', 'WorkPlacePostalCode', 'WorkplaceID']\n",
    "assert len(df) == 20"
   ]
  },
  {
   "cell_type": "markdown",
   "metadata": {
    "deletable": false,
    "editable": false,
    "nbgrader": {
     "cell_type": "markdown",
     "checksum": "d59d282f8c9b5701bb3385c04206ed03",
     "grade": false,
     "grade_id": "cell-83ba2d019cf2164a",
     "locked": true,
     "schema_version": 3,
     "solution": false,
     "task": false
    }
   },
   "source": [
    "## Problems from Exercise Set 8\n",
    "\n",
    "> **Ex. 8.1.2:** From exercise 8.1.1 in Module 8 we found that the company `euphemia media` owns the domain \"netbaby.dk\". Now we want to gather further information about this company.\n",
    "\n",
    "> Go to the Central Business Register website https://datacvr.virk.dk/data/. Figure out how to look up companies by changing the url and then lookup `euphemia media`. Use `requests` to get the html and parse this with `BeautifulSoup`. Store the parsed html in the variable `soup`. Find the CVR number in the `soup`, store this in the variable `cvr` and finally print this variable."
   ]
  },
  {
   "cell_type": "code",
   "execution_count": 142,
   "metadata": {
    "deletable": false,
    "nbgrader": {
     "cell_type": "code",
     "checksum": "23f4b4f6f8bc4d73598cefe71ff07746",
     "grade": false,
     "grade_id": "cell-8ac57a7c29a7a9e5",
     "locked": false,
     "schema_version": 3,
     "solution": true,
     "task": false
    }
   },
   "outputs": [
    {
     "name": "stdout",
     "output_type": "stream",
     "text": [
      "https://datacvr.virk.dk/data/visninger?soeg=Euphemia%20Media&type=virksomhed\n"
     ]
    },
    {
     "data": {
      "text/plain": [
       "'21848875'"
      ]
     },
     "execution_count": 142,
     "metadata": {},
     "output_type": "execute_result"
    }
   ],
   "source": [
    "# YOUR CODE HERE\n",
    "\n",
    "import re\n",
    "\n",
    "def virk_url(comp_name):\n",
    "    base = 'https://datacvr.virk.dk/data/visninger?soeg='\n",
    "    end = '&type=virksomhed'\n",
    "    search = comp_name.replace(' ', '%20')\n",
    "    return base+search+end\n",
    "\n",
    "print(virk_url('Euphemia Media'))\n",
    "\n",
    "url = virk_url('Euphemia Media')\n",
    "\n",
    "resp = requests.get(url).text\n",
    "\n",
    "soup1 = BeautifulSoup(resp, 'html.parser')\n",
    "mydiv = soup1.find_all(\"div\", {\"class\": \"col-sm-6 cvrreg\"})\n",
    "\n",
    "for _cvr in mydiv:\n",
    "       cvr = re.search('[0-9]+', _cvr.text).group()\n",
    "\n",
    "cvr"
   ]
  },
  {
   "cell_type": "code",
   "execution_count": 143,
   "metadata": {
    "deletable": false,
    "editable": false,
    "nbgrader": {
     "cell_type": "code",
     "checksum": "ff9f40cfd56c22b52ba325862a5a507b",
     "grade": true,
     "grade_id": "cell-fdedf045d58ac444",
     "locked": true,
     "points": 2,
     "schema_version": 3,
     "solution": false,
     "task": false
    }
   },
   "outputs": [],
   "source": [
    "import bs4; type(soup) == bs4.BeautifulSoup\n",
    "assert str(cvr) == '21848875'"
   ]
  }
 ],
 "metadata": {
  "kernelspec": {
   "display_name": "Python 3",
   "language": "python",
   "name": "python3"
  },
  "language_info": {
   "codemirror_mode": {
    "name": "ipython",
    "version": 3
   },
   "file_extension": ".py",
   "mimetype": "text/x-python",
   "name": "python",
   "nbconvert_exporter": "python",
   "pygments_lexer": "ipython3",
   "version": "3.7.3"
  },
  "varInspector": {
   "cols": {
    "lenName": 16,
    "lenType": 16,
    "lenVar": 40
   },
   "kernels_config": {
    "python": {
     "delete_cmd_postfix": "",
     "delete_cmd_prefix": "del ",
     "library": "var_list.py",
     "varRefreshCmd": "print(var_dic_list())"
    },
    "r": {
     "delete_cmd_postfix": ") ",
     "delete_cmd_prefix": "rm(",
     "library": "var_list.r",
     "varRefreshCmd": "cat(var_dic_list()) "
    }
   },
   "types_to_exclude": [
    "module",
    "function",
    "builtin_function_or_method",
    "instance",
    "_Feature"
   ],
   "window_display": false
  }
 },
 "nbformat": 4,
 "nbformat_minor": 4
}
